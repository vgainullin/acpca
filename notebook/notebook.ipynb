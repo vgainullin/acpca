{
 "cells": [
  {
   "cell_type": "code",
   "execution_count": null,
   "metadata": {},
   "outputs": [],
   "source": [
    "import numpy as np\n",
    "# Generate random data\n",
    "rng = np.random.RandomState(42)\n",
    "X = rng.randn(100, 20)\n",
    "n_components = 2"
   ]
  },
  {
   "cell_type": "code",
   "execution_count": null,
   "metadata": {},
   "outputs": [],
   "source": [
    "from sklearn.decomposition import PCA\n",
    "from acpca import ACPCA\n",
    "\n",
    "\n",
    "# Fit PCA\n",
    "pca = PCA(n_components=1)\n",
    "pca_transformed = pca.fit_transform(X)\n",
    "\n",
    "# Fit ACPCA with L=0.0\n",
    "acpca = ACPCA(n_components=1, Y=np.zeros((X.shape[0], )), L=0, preprocess=True, use_implicit=False, scale_x=False, scale_y=False, center_x=True, center_y=True)\n",
    "acpca_transformed = acpca.fit_transform(X)\n",
    "\n",
    "# Compare the results\n",
    "np.concatenate([pca_transformed, acpca_transformed], axis=1)"
   ]
  },
  {
   "cell_type": "code",
   "execution_count": null,
   "metadata": {},
   "outputs": [],
   "source": [
    "# Load rda dataset into pandas\n",
    "import pandas as pd\n",
    "import rdata\n",
    "import numpy as np\n",
    "\n",
    "# Load the .rda file\n",
    "parsed_data = rdata.parser.parse_file(\"../data/data_example1.rda\")\n",
    "\n",
    "# Convert the R objects to a pandas DataFrame\n",
    "converted_data = rdata.conversion.convert(parsed_data)\n",
    "\n",
    "# load to pandas if 'data_example1' , X, Y\n",
    "data = pd.DataFrame(converted_data['data_example1']['X'])\n",
    "data.columns= [f'gene_{i}' for i in range(data.shape[1])]\n",
    "Y = converted_data['data_example1']['Y']\n",
    "data['batch_labels'] = np.argmax(Y, axis=1)\n",
    "data['point_annotation'] = converted_data['data_example1']['lab']\n",
    "data.to_csv('../data/data_example1.csv', index=False)\n"
   ]
  },
  {
   "cell_type": "code",
   "execution_count": null,
   "metadata": {},
   "outputs": [],
   "source": [
    "# Load the .rda file\n",
    "parsed_data = rdata.parser.parse_file(\"../data/data_fly_worm.rda\")\n",
    "\n",
    "# Convert the R objects to a pandas DataFrame\n",
    "converted_data = rdata.conversion.convert(parsed_data)\n",
    "\n",
    "# load to pandas if 'data_example1' , X, Y\n",
    "data_1 = pd.DataFrame(converted_data['data_fly_worm']['data_fly'])\n",
    "data_2 = pd.DataFrame(converted_data['data_fly_worm']['data_worm'])\n",
    "data_1.columns= converted_data['data_fly_worm']['fly_gene']\n",
    "\n",
    "data_merged = pd.DataFrame(converted_data['data_fly_worm']['X'])\n",
    "data_merged['species'] = converted_data['data_fly_worm']['X_species']\n",
    "data_merged['time'] = converted_data['data_fly_worm']['X_time']\n",
    "data_merged['Y'] = np.argmax(converted_data['data_fly_worm']['Y'].values, axis=1)\n",
    "#data_2.columns= converted_data['data_fly_worm']['worm_gene']\n",
    "#data_2.columns= [f'gene_{i}' for i in range(data_2.shape[1])]\n",
    "\n",
    "data_merged.to_csv('../data/data_fly_worm_merged.csv', index=False)\n",
    "#Y1 = pd.DataFrame(converted_data['data_fly_worm']['Y'])\n",
    "\n",
    "# batch_labels = np.argmax(Y, axis=1)\n",
    "# data['batch_labels'] = batch_labels\n",
    "# data.to_csv('../data/data_fly_worm.csv', index=False)"
   ]
  },
  {
   "cell_type": "code",
   "execution_count": null,
   "metadata": {},
   "outputs": [],
   "source": [
    "import pandas as pd\n",
    "import matplotlib.pyplot as plt\n",
    "\n",
    "\n",
    "data = pd.read_csv('../data/data_example1.csv')\n",
    "\n",
    "from sklearn.decomposition import PCA\n",
    "\n",
    "pca = PCA(n_components=2)\n",
    "X = data.iloc[:, :-2].values\n",
    "y = data['batch_labels'].values\n",
    "X_pca_i = pca.fit_transform(X)\n",
    "\n",
    "plt.scatter(X_pca_i[:, 0], X_pca_i[:, 1], c=y, cmap='viridis')\n",
    "# annotate each point with time\n",
    "for i, txt in enumerate(data['point_annotation']):\n",
    "    plt.annotate(txt, (X_pca_i[i, 0], X_pca_i[i, 1]), fontsize=8)\n",
    "plt.colorbar()\n",
    "plt.show()"
   ]
  },
  {
   "cell_type": "code",
   "execution_count": null,
   "metadata": {},
   "outputs": [],
   "source": [
    "import sys\n",
    "import matplotlib.pyplot as plt\n",
    "import pandas as pd\n",
    "sys.path.append('/home/vlad/projects/acpca')\n",
    "from acpca.transform import ACPCA\n",
    "\n",
    "data = pd.read_csv('../data/data_example1.csv')\n",
    "\n",
    "X = data.iloc[:, :-2].values\n",
    "y = data['batch_labels'].values\n",
    "\n",
    "acpca = ACPCA(n_components=2, Y=y, L=1,center_x=True, align_orientation=True)\n",
    "\n",
    "X_pca = acpca.fit_transform(X)\n",
    "\n",
    "plt.scatter(X_pca[:, 0], X_pca[:, 1], c=y, cmap='viridis')\n",
    "# annotate each point with time\n",
    "for i, txt in enumerate(data['point_annotation']):\n",
    "    plt.annotate(txt, (X_pca[i, 0], X_pca[i, 1]), fontsize=8)\n",
    "plt.colorbar()\n",
    "plt.show()"
   ]
  },
  {
   "cell_type": "code",
   "execution_count": null,
   "metadata": {},
   "outputs": [],
   "source": [
    "import sys\n",
    "import matplotlib.pyplot as plt\n",
    "import pandas as pd\n",
    "sys.path.append('/home/vlad/projects/acpca')\n",
    "from acpca.transform import ACPCA\n",
    "\n",
    "data = pd.read_csv('../data/data_example1.csv')\n",
    "\n",
    "X = data.iloc[:, :-2].values\n",
    "y = data['batch_labels'].values\n",
    "\n",
    "acpca = ACPCA(n_components=2, Y=y, L=-1, use_implicit=True, align_orientation=True,lambda_method='silhouette', kernel='linear', gamma=0.5, preprocess=False, scale_x=True, center_x=True, center_y=True)\n",
    "\n",
    "X_pca = acpca.fit_transform(X)\n",
    "\n",
    "plt.scatter(X_pca[:, 0], X_pca[:, 1], c=y, cmap='viridis')\n",
    "# annotate each point with time\n",
    "for i, txt in enumerate(data['point_annotation']):\n",
    "    plt.annotate(txt, (X_pca[i, 0], X_pca[i, 1]), fontsize=8)\n",
    "plt.colorbar()\n",
    "plt.show()"
   ]
  },
  {
   "cell_type": "code",
   "execution_count": null,
   "metadata": {},
   "outputs": [],
   "source": [
    "acpca.plot_lambda_optimization()"
   ]
  },
  {
   "cell_type": "code",
   "execution_count": null,
   "metadata": {},
   "outputs": [],
   "source": [
    "import numpy as np\n",
    "from sklearn.decomposition import PCA\n",
    "from numpy.testing import assert_allclose\n",
    "\n",
    "rng = np.random.RandomState(42)\n",
    "\n",
    "X = rng.randn(100, 20)\n",
    "n_components = 1\n",
    "\n",
    "# Fit PCA\n",
    "pca = PCA(n_components=n_components)\n",
    "pca_transformed = pca.fit_transform(X)\n",
    "\n",
    "# Fit ACPCA with L=0.0\n",
    "acpca = ACPCA(n_components=n_components, Y=np.ones((X.shape[0], )), L=0, use_implicit=False, preprocess=True, scale_x=False, center_x=True, center_y=True)\n",
    "\n",
    "acpca_transformed = acpca.fit_transform(X)\n",
    "\n"
   ]
  },
  {
   "cell_type": "code",
   "execution_count": null,
   "metadata": {},
   "outputs": [],
   "source": [
    "np.concatenate([pca_transformed, acpca_transformed], axis=1)"
   ]
  },
  {
   "cell_type": "code",
   "execution_count": null,
   "metadata": {},
   "outputs": [],
   "source": [
    "\n",
    "import pandas as pd\n",
    "import matplotlib.pyplot as plt\n",
    "data = pd.read_csv('../data/data_example1.csv')\n",
    "\n",
    "X = data.iloc[:, :-2].values\n",
    "y = data['batch_labels'].values\n",
    "\n",
    "acpca = ACPCA(n_components=2, Y=y, L=0.0)\n",
    "\n",
    "X_pca = acpca.fit(X).transform(X)\n",
    "\n",
    "plt.scatter(X_pca[:, 0], X_pca[:, 1], c=y, cmap='viridis')\n",
    "# annotate each point with time\n",
    "for i, txt in enumerate(data['point_annotation']):\n",
    "    plt.annotate(txt, (X_pca[i, 0], X_pca[i, 1]), fontsize=8)\n",
    "plt.colorbar()\n",
    "plt.show()"
   ]
  },
  {
   "cell_type": "code",
   "execution_count": null,
   "metadata": {},
   "outputs": [],
   "source": [
    "import pandas as pd\n",
    "import matplotlib.pyplot as plt\n",
    "\n",
    "\n",
    "data = pd.read_csv('../data/data_fly_worm_merged.csv')\n",
    "\n",
    "from sklearn.decomposition import PCA\n",
    "\n",
    "pca = PCA(n_components=2)\n",
    "X = data.iloc[:, :-3].values\n",
    "y = data['species'].map({'fly': 0, 'worm': 1}).values\n",
    "y2 = data['Y'].values\n",
    "X_pca = pca.fit_transform(X)\n",
    "\n",
    "plt.scatter(X_pca[:, 0], X_pca[:, 1], c=y, cmap='viridis')\n",
    "# annotate each point with time\n",
    "for i, txt in enumerate(data['time']):\n",
    "    plt.annotate(txt, (X_pca[i, 0], X_pca[i, 1]), fontsize=8)\n",
    "plt.colorbar()\n",
    "plt.show()"
   ]
  },
  {
   "cell_type": "code",
   "execution_count": null,
   "metadata": {},
   "outputs": [],
   "source": [
    "import sys\n",
    "sys.path.append('/home/vlad/projects/acpca')\n",
    "from acpca.transform import ACPCA\n",
    "\n",
    "acpca = ACPCA(\n",
    "    n_components=2, \n",
    "    Y=y, \n",
    "    L=-1, \n",
    "    lambda_method='original', \n",
    "    kernel='linear',\n",
    "    gamma=0.5,\n",
    "    align_orientation=True, \n",
    "    preprocess=True, \n",
    "    use_implicit=True, \n",
    "    scale_x=False,\n",
    "    scale_y=False,\n",
    "    center_x=True, \n",
    "    center_y=True, \n",
    ")\n",
    "\n",
    "X_acpca = acpca.fit(X).transform(X)\n",
    "\n",
    "# Plot ACPCA\n",
    "plt.scatter(X_acpca[:, 0], X_acpca[:, 1], c=y2, cmap='viridis')\n",
    "for i, txt in enumerate(data['time']):\n",
    "    plt.annotate(txt, (X_acpca[i, 0], X_acpca[i, 1]), fontsize=8)\n",
    "plt.colorbar()\n",
    "plt.show()"
   ]
  },
  {
   "cell_type": "code",
   "execution_count": null,
   "metadata": {},
   "outputs": [],
   "source": [
    "acpca.plot_lambda_optimization()"
   ]
  },
  {
   "cell_type": "code",
   "execution_count": null,
   "metadata": {},
   "outputs": [],
   "source": [
    "import sys\n",
    "sys.path.append('/home/vlad/projects/acpca')\n",
    "from acpca.transform import ACPCA\n",
    "from acpca.utils import create_synthetic_data\n",
    "\n",
    "X, X_true, Y, batch_labels = create_synthetic_data(\n",
    "    n_samples=300, n_genes=100, num_batches=10, n_groups=3, random_state=42,\n",
    "    apply_scale_effect=True,\n",
    "    apply_dropout_effect=False, \n",
    "    apply_technical_noise=False,\n",
    "    apply_batch_structure=True \n",
    ")"
   ]
  },
  {
   "cell_type": "code",
   "execution_count": null,
   "metadata": {},
   "outputs": [],
   "source": [
    "import pandas as pd\n",
    "from sklearn.decomposition import PCA\n",
    "pd.DataFrame(PCA(n_components=2).fit_transform(X)).plot.scatter(x=0, y=1, c=Y, cmap='viridis')\n"
   ]
  },
  {
   "cell_type": "code",
   "execution_count": null,
   "metadata": {},
   "outputs": [],
   "source": [
    "acpca = ACPCA(n_components=2, Y=batch_labels, L=0, preprocess=True, use_implicit=True, scale_x=False,scale_y=False, center_x=True, center_y=True, lambda_method='original', kernel='linear')\n",
    "acpca_res = acpca.fit_transform(X)\n",
    "df_acpca_res = pd.DataFrame(acpca_res)\n",
    "df_acpca_res.plot.scatter(x=0, y=1, c=Y, cmap='viridis')\n"
   ]
  },
  {
   "cell_type": "code",
   "execution_count": null,
   "metadata": {},
   "outputs": [],
   "source": [
    "acpca = ACPCA(n_components=2, Y=batch_labels, L=-1, preprocess=True, use_implicit=True, scale_x=True,scale_y=True, center_x=True, center_y=True, lambda_method='original', kernel='sigmoid', gamma=0.5)\n",
    "acpca_res = acpca.fit_transform(X)\n",
    "df_acpca_res = pd.DataFrame(acpca_res)\n",
    "df_acpca_res.plot.scatter(x=0, y=1, c=Y, cmap='viridis')\n"
   ]
  },
  {
   "cell_type": "code",
   "execution_count": null,
   "metadata": {},
   "outputs": [],
   "source": [
    "acpca.plot_lambda_optimization()"
   ]
  },
  {
   "cell_type": "code",
   "execution_count": null,
   "metadata": {},
   "outputs": [],
   "source": [
    "pd.DataFrame(ACPCA(n_components=2, Y=batch_labels, L=-1, preprocess=False, use_implicit=False, scale_x=True, center_x=True, center_y=True, lambda_method='original', kernel='linear').fit_transform(X)).plot.scatter(x=0, y=1, c=batch_labels, cmap='viridis')\n"
   ]
  }
 ],
 "metadata": {
  "kernelspec": {
   "display_name": "acpca",
   "language": "python",
   "name": "python3"
  },
  "language_info": {
   "codemirror_mode": {
    "name": "ipython",
    "version": 3
   },
   "file_extension": ".py",
   "mimetype": "text/x-python",
   "name": "python",
   "nbconvert_exporter": "python",
   "pygments_lexer": "ipython3",
   "version": "3.13.0"
  }
 },
 "nbformat": 4,
 "nbformat_minor": 2
}
